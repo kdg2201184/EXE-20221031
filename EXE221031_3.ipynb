{
  "nbformat": 4,
  "nbformat_minor": 0,
  "metadata": {
    "colab": {
      "provenance": [],
      "authorship_tag": "ABX9TyOskf180oqqjTvirE3a5IfR",
      "include_colab_link": true
    },
    "kernelspec": {
      "name": "python3",
      "display_name": "Python 3"
    },
    "language_info": {
      "name": "python"
    }
  },
  "cells": [
    {
      "cell_type": "markdown",
      "metadata": {
        "id": "view-in-github",
        "colab_type": "text"
      },
      "source": [
        "<a href=\"https://colab.research.google.com/github/kdg2201184/EXE-20221031/blob/main/EXE221031_3.ipynb\" target=\"_parent\"><img src=\"https://colab.research.google.com/assets/colab-badge.svg\" alt=\"Open In Colab\"/></a>"
      ]
    },
    {
      "cell_type": "code",
      "execution_count": 9,
      "metadata": {
        "colab": {
          "base_uri": "https://localhost:8080/"
        },
        "id": "Sa3yM0vd0vsD",
        "outputId": "548f1169-6c9e-43ae-b601-499502440387"
      },
      "outputs": [
        {
          "output_type": "stream",
          "name": "stdout",
          "text": [
            "x의 값을 입력하시오.:10\n",
            "y의 값을 입력하시오.:20\n",
            "x와 y의 합은:  30\n",
            "x와 y의 차는:  -10\n",
            "x와 y의 곱은:  200\n",
            "x와 y의 평균 15.0\n",
            "x와 y 큰수는?:  20\n",
            "x와 y 작은수는?:  10\n"
          ]
        }
      ],
      "source": [
        "x = int(input(\"x의 값을 입력하시오.:\"))\n",
        "y = int(input(\"y의 값을 입력하시오.:\"))\n",
        "\n",
        "print(\"x와 y의 합은: \",x + y)\n",
        "print(\"x와 y의 차는: \",x - y)\n",
        "print(\"x와 y의 곱은: \", x * y)\n",
        "print(\"x와 y의 평균\", ((x + y)/2))\n",
        "print(\"x와 y 큰수는?: \", max(x, y))\n",
        "print(\"x와 y 작은수는?: \", min(x, y))"
      ]
    },
    {
      "cell_type": "code",
      "source": [
        "r = float(input(\"r 값을 입력하시오: \"))  # 변수 r의 값을 float 형으로 사용자로부터 받는다.\n",
        "h = float(input(\"h 값을 입력하시오: \"))  # 변수 h의 값을 float 형으로 사용자로부터 받는다.\n",
        "vol = 3.141592 * r**2 * h\n",
        "\n",
        "print(\"원기둥의 부피는: \", vol, \"입니다.\")"
      ],
      "metadata": {
        "colab": {
          "base_uri": "https://localhost:8080/"
        },
        "id": "0eWMZ-xT2azX",
        "outputId": "4f391536-4fb3-40d6-e1de-e2cf1a334515"
      },
      "execution_count": 15,
      "outputs": [
        {
          "output_type": "stream",
          "name": "stdout",
          "text": [
            "r 값을 입력하시오: 10\n",
            "h 값을 입력하시오: 100\n",
            "원기둥의 부피는:  31415.92 입니다.\n"
          ]
        }
      ]
    },
    {
      "cell_type": "code",
      "source": [
        "number = int(input(\"정수를 입력하시오: \"))\n",
        "sum = 0       # 변수 sum을 초기화 0으로 한다.\n",
        "sum = sum + number % 10\n",
        "number = number // 10\n",
        "sum = sum + number % 10\n",
        "number = number // 10\n",
        "sum = sum+ number % 10\n",
        "number = number // 10\n",
        "sum = sum + number % 10\n",
        "number = number //10 \n",
        "print(\"자릿수의 합: \", str(sum))"
      ],
      "metadata": {
        "colab": {
          "base_uri": "https://localhost:8080/"
        },
        "id": "1iymm0Zg41m4",
        "outputId": "dcf2fe2e-285d-484d-da6a-48b0da37d343"
      },
      "execution_count": 17,
      "outputs": [
        {
          "output_type": "stream",
          "name": "stdout",
          "text": [
            "정수를 입력하시오: 12345\n",
            "자릿수의 합:  14\n"
          ]
        }
      ]
    },
    {
      "cell_type": "code",
      "source": [
        "x1 = int(input(\"x1의 값: \"))\n",
        "y1 = int(input(\"y1의 값: \"))\n",
        "\n",
        "x2 = int(input(\"x2의 값: \"))\n",
        "y2 = int(input(\"y2의 값: \"))\n",
        "\n",
        "dist = ((x2 - x1)**2 + (y2 - y1)**2)**0.5\n",
        "\n",
        "print(\"두점 사이의 거리 =\", dist, \"입니다.\")"
      ],
      "metadata": {
        "colab": {
          "base_uri": "https://localhost:8080/"
        },
        "id": "z6sfofBq78Fh",
        "outputId": "28dbb953-08c9-4603-9b22-7adbd9646d3b"
      },
      "execution_count": 18,
      "outputs": [
        {
          "output_type": "stream",
          "name": "stdout",
          "text": [
            "x1의 값: 0\n",
            "y1의 값: 0\n",
            "x2의 값: 100\n",
            "y2의 값: 100\n",
            "두점 사이의 거리 = 141.4213562373095 입니다.\n"
          ]
        }
      ]
    },
    {
      "cell_type": "code",
      "source": [
        "import time\n",
        "fsecond = time.time()\n",
        "total_sec = int(fsecond)\n",
        "total_min = total_sec // 60\n",
        "minute = total_min % 60\n",
        "total_hour = total_min // 60\n",
        "hour = total_hour % 24\n",
        "\n",
        "print(\"현재시각은 (영국 그리니치 표준시각): \", str(hour) + \"시\" + str(minute) + \"분\")"
      ],
      "metadata": {
        "colab": {
          "base_uri": "https://localhost:8080/"
        },
        "id": "7i-X8sR-H52i",
        "outputId": "4e7e496a-4921-4ac5-a5e4-d0f07bcf2914"
      },
      "execution_count": 24,
      "outputs": [
        {
          "output_type": "stream",
          "name": "stdout",
          "text": [
            "현재시각은 (영국 그리니치 표준시각):  3시50분\n"
          ]
        }
      ]
    }
  ]
}